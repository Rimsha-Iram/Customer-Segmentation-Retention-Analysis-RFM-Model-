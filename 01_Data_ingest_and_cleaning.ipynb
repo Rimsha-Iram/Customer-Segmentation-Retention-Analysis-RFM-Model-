{
 "cells": [
  {
   "cell_type": "markdown",
   "id": "2c1498f7-8ab7-4bf5-ac3f-6962a4ec82e8",
   "metadata": {},
   "source": [
    "<div align=\"center\">\n",
    "\n",
    "# Customer Segmentation & Retention Analysis (RFM Model)\n",
    "### Data Cleaning • Exploration • Segmentation • Insights\n",
    "\n",
    "</div>"
   ]
  },
  {
   "cell_type": "code",
   "execution_count": 1,
   "id": "e88b0000-3535-4403-a349-a9fbb6294ca3",
   "metadata": {},
   "outputs": [
    {
     "name": "stdout",
     "output_type": "stream",
     "text": [
      "Packages check/install done.\n"
     ]
    },
    {
     "name": "stderr",
     "output_type": "stream",
     "text": [
      "  WARNING: The script httpx.exe is installed in 'C:\\Users\\AZAN LAPTOP STORE\\AppData\\Roaming\\Python\\Python313\\Scripts' which is not on PATH.\n",
      "  Consider adding this directory to PATH or, if you prefer to suppress this warning, use --no-warn-script-location.\n"
     ]
    }
   ],
   "source": [
    "# Install required packages if not present (run once)\n",
    "import sys\n",
    "!{sys.executable} -m pip install pandas numpy matplotlib seaborn scikit-learn sqlalchemy jupyterlab pyarrow openpyxl --quiet\n",
    "print(\"Packages check/install done.\")\n"
   ]
  },
  {
   "cell_type": "markdown",
   "id": "4d92d8c0-559d-4a42-af80-7050de2e9c9c",
   "metadata": {},
   "source": [
    "# 01_Data_ingest_and_cleaning.ipynb\n",
    "**Objective:** Load the raw Online Retail dataset, perform reproducible cleaning, create derived features (TotalPrice), document all decisions, and save an `interim` cleaned CSV for the next phase.\n",
    "\n",
    "**Notebook structure**\n",
    "1. Setup & imports  \n",
    "2. Load raw dataset & quick glance\n",
    "3. Standardize column names\n",
    "4. Data type fixes & derived columns   \n",
    "5. Data Cleaning – Fixing Invalid or Unrealistic Values\n",
    "6. Duplicates & suspicious rows\n",
    "7. Exploratory checks & visualizations (QC)  \n",
    "8. Saving Cleaned Dataset\n",
    "9. Notes to include in README & documentation\n",
    "   \n",
    "   "
   ]
  },
  {
   "cell_type": "markdown",
   "id": "3ae06797-b345-4609-9c4a-f5b7b8df7dc0",
   "metadata": {},
   "source": [
    "## 1. Setup & imports\n",
    "Import libraries and set display options for readability.\n"
   ]
  },
  {
   "cell_type": "code",
   "execution_count": 4,
   "id": "50bfd78b-7adf-434b-8c79-49304c7ee0c3",
   "metadata": {},
   "outputs": [],
   "source": [
    "# Imports and display settings\n",
    "import pandas as pd\n",
    "import numpy as np\n",
    "import matplotlib.pyplot as plt\n",
    "import seaborn as sns\n",
    "import os\n",
    "from pathlib import Path"
   ]
  },
  {
   "cell_type": "markdown",
   "id": "bea77ac4-9094-4fc6-980b-04fa5830f3e7",
   "metadata": {},
   "source": [
    "## 2. Load raw dataset & quick glance\n",
    "Load the raw Excel. Show shape, column names, sample rows, and basic info.\n"
   ]
  },
  {
   "cell_type": "code",
   "execution_count": 6,
   "id": "ba775be9-e79d-45a8-929a-704dda80b402",
   "metadata": {},
   "outputs": [
    {
     "name": "stdout",
     "output_type": "stream",
     "text": [
      "(541909, 8)\n"
     ]
    },
    {
     "data": {
      "text/html": [
       "<div>\n",
       "<style scoped>\n",
       "    .dataframe tbody tr th:only-of-type {\n",
       "        vertical-align: middle;\n",
       "    }\n",
       "\n",
       "    .dataframe tbody tr th {\n",
       "        vertical-align: top;\n",
       "    }\n",
       "\n",
       "    .dataframe thead th {\n",
       "        text-align: right;\n",
       "    }\n",
       "</style>\n",
       "<table border=\"1\" class=\"dataframe\">\n",
       "  <thead>\n",
       "    <tr style=\"text-align: right;\">\n",
       "      <th></th>\n",
       "      <th>InvoiceNo</th>\n",
       "      <th>StockCode</th>\n",
       "      <th>Description</th>\n",
       "      <th>Quantity</th>\n",
       "      <th>InvoiceDate</th>\n",
       "      <th>UnitPrice</th>\n",
       "      <th>CustomerID</th>\n",
       "      <th>Country</th>\n",
       "    </tr>\n",
       "  </thead>\n",
       "  <tbody>\n",
       "    <tr>\n",
       "      <th>0</th>\n",
       "      <td>536365</td>\n",
       "      <td>85123A</td>\n",
       "      <td>WHITE HANGING HEART T-LIGHT HOLDER</td>\n",
       "      <td>6</td>\n",
       "      <td>2010-12-01 08:26:00</td>\n",
       "      <td>2.55</td>\n",
       "      <td>17850.0</td>\n",
       "      <td>United Kingdom</td>\n",
       "    </tr>\n",
       "    <tr>\n",
       "      <th>1</th>\n",
       "      <td>536365</td>\n",
       "      <td>71053</td>\n",
       "      <td>WHITE METAL LANTERN</td>\n",
       "      <td>6</td>\n",
       "      <td>2010-12-01 08:26:00</td>\n",
       "      <td>3.39</td>\n",
       "      <td>17850.0</td>\n",
       "      <td>United Kingdom</td>\n",
       "    </tr>\n",
       "    <tr>\n",
       "      <th>2</th>\n",
       "      <td>536365</td>\n",
       "      <td>84406B</td>\n",
       "      <td>CREAM CUPID HEARTS COAT HANGER</td>\n",
       "      <td>8</td>\n",
       "      <td>2010-12-01 08:26:00</td>\n",
       "      <td>2.75</td>\n",
       "      <td>17850.0</td>\n",
       "      <td>United Kingdom</td>\n",
       "    </tr>\n",
       "    <tr>\n",
       "      <th>3</th>\n",
       "      <td>536365</td>\n",
       "      <td>84029G</td>\n",
       "      <td>KNITTED UNION FLAG HOT WATER BOTTLE</td>\n",
       "      <td>6</td>\n",
       "      <td>2010-12-01 08:26:00</td>\n",
       "      <td>3.39</td>\n",
       "      <td>17850.0</td>\n",
       "      <td>United Kingdom</td>\n",
       "    </tr>\n",
       "    <tr>\n",
       "      <th>4</th>\n",
       "      <td>536365</td>\n",
       "      <td>84029E</td>\n",
       "      <td>RED WOOLLY HOTTIE WHITE HEART.</td>\n",
       "      <td>6</td>\n",
       "      <td>2010-12-01 08:26:00</td>\n",
       "      <td>3.39</td>\n",
       "      <td>17850.0</td>\n",
       "      <td>United Kingdom</td>\n",
       "    </tr>\n",
       "  </tbody>\n",
       "</table>\n",
       "</div>"
      ],
      "text/plain": [
       "  InvoiceNo StockCode                          Description  Quantity  \\\n",
       "0    536365    85123A   WHITE HANGING HEART T-LIGHT HOLDER         6   \n",
       "1    536365     71053                  WHITE METAL LANTERN         6   \n",
       "2    536365    84406B       CREAM CUPID HEARTS COAT HANGER         8   \n",
       "3    536365    84029G  KNITTED UNION FLAG HOT WATER BOTTLE         6   \n",
       "4    536365    84029E       RED WOOLLY HOTTIE WHITE HEART.         6   \n",
       "\n",
       "           InvoiceDate  UnitPrice  CustomerID         Country  \n",
       "0  2010-12-01 08:26:00       2.55     17850.0  United Kingdom  \n",
       "1  2010-12-01 08:26:00       3.39     17850.0  United Kingdom  \n",
       "2  2010-12-01 08:26:00       2.75     17850.0  United Kingdom  \n",
       "3  2010-12-01 08:26:00       3.39     17850.0  United Kingdom  \n",
       "4  2010-12-01 08:26:00       3.39     17850.0  United Kingdom  "
      ]
     },
     "metadata": {},
     "output_type": "display_data"
    },
    {
     "data": {
      "text/plain": [
       "['InvoiceNo',\n",
       " 'StockCode',\n",
       " 'Description',\n",
       " 'Quantity',\n",
       " 'InvoiceDate',\n",
       " 'UnitPrice',\n",
       " 'CustomerID',\n",
       " 'Country']"
      ]
     },
     "metadata": {},
     "output_type": "display_data"
    }
   ],
   "source": [
    "# Load dataset\n",
    "file_path = r\"C:\\Users\\AZAN LAPTOP STORE\\Downloads\\Portfolio\\Projects\\Customer Segmentation & Retention Analysis (RFM Model)\\data\\online_retail.csv\"\n",
    "df = pd.read_csv(file_path, encoding='latin1')\n",
    "\n",
    "# Quick check\n",
    "print(df.shape)\n",
    "display(df.head())\n",
    "display(df.columns.tolist())"
   ]
  },
  {
   "cell_type": "markdown",
   "id": "3036f108-fcce-450b-a29a-8944a25c67f8",
   "metadata": {},
   "source": [
    "## 3. Standardize column names\n",
    "Make sure column names are consistent and lowercased (but keep original names in a note).\n"
   ]
  },
  {
   "cell_type": "code",
   "execution_count": 7,
   "id": "ffe54dc7-1b05-49ce-9e2f-7ed03ce73153",
   "metadata": {},
   "outputs": [
    {
     "name": "stdout",
     "output_type": "stream",
     "text": [
      "Columns after strip: ['InvoiceNo', 'StockCode', 'Description', 'Quantity', 'InvoiceDate', 'UnitPrice', 'CustomerID', 'Country']\n",
      "Unexpected columns: []\n"
     ]
    }
   ],
   "source": [
    "# Normalize column names (strip, lower, no spaces)\n",
    "df.columns = [c.strip() for c in df.columns]\n",
    "# Optional: keep original mapping (useful to document)\n",
    "col_map = {\n",
    "    'InvoiceNo':'InvoiceNo', 'StockCode':'StockCode', 'Description':'Description',\n",
    "    'Quantity':'Quantity', 'InvoiceDate':'InvoiceDate', 'UnitPrice':'UnitPrice',\n",
    "    'CustomerID':'CustomerID', 'Country':'Country'\n",
    "}\n",
    "# show mapping and any unexpected columns\n",
    "print(\"Columns after strip:\", df.columns.tolist())\n",
    "unexpected = [c for c in df.columns if c not in col_map]\n",
    "print(\"Unexpected columns:\", unexpected)\n"
   ]
  },
  {
   "cell_type": "markdown",
   "id": "dbc2eab3-a1d7-4013-9d89-f75a8531f8ca",
   "metadata": {},
   "source": [
    "## 4. Data types & create derived columns\n",
    "Convert InvoiceDate to datetime, ensure numeric types for Quantity & UnitPrice, and create TotalPrice.\n"
   ]
  },
  {
   "cell_type": "code",
   "execution_count": 9,
   "id": "7fd48d26-912f-4817-b4f8-2cc7f8373c45",
   "metadata": {},
   "outputs": [
    {
     "data": {
      "text/html": [
       "<div>\n",
       "<style scoped>\n",
       "    .dataframe tbody tr th:only-of-type {\n",
       "        vertical-align: middle;\n",
       "    }\n",
       "\n",
       "    .dataframe tbody tr th {\n",
       "        vertical-align: top;\n",
       "    }\n",
       "\n",
       "    .dataframe thead th {\n",
       "        text-align: right;\n",
       "    }\n",
       "</style>\n",
       "<table border=\"1\" class=\"dataframe\">\n",
       "  <thead>\n",
       "    <tr style=\"text-align: right;\">\n",
       "      <th></th>\n",
       "      <th>count</th>\n",
       "      <th>mean</th>\n",
       "      <th>min</th>\n",
       "      <th>25%</th>\n",
       "      <th>50%</th>\n",
       "      <th>75%</th>\n",
       "      <th>max</th>\n",
       "      <th>std</th>\n",
       "    </tr>\n",
       "  </thead>\n",
       "  <tbody>\n",
       "    <tr>\n",
       "      <th>InvoiceDate</th>\n",
       "      <td>541909</td>\n",
       "      <td>2011-07-04 13:34:57.156386048</td>\n",
       "      <td>2010-12-01 08:26:00</td>\n",
       "      <td>2011-03-28 11:34:00</td>\n",
       "      <td>2011-07-19 17:17:00</td>\n",
       "      <td>2011-10-19 11:27:00</td>\n",
       "      <td>2011-12-09 12:50:00</td>\n",
       "      <td>NaN</td>\n",
       "    </tr>\n",
       "    <tr>\n",
       "      <th>Quantity</th>\n",
       "      <td>541909.0</td>\n",
       "      <td>9.55225</td>\n",
       "      <td>-80995.0</td>\n",
       "      <td>1.0</td>\n",
       "      <td>3.0</td>\n",
       "      <td>10.0</td>\n",
       "      <td>80995.0</td>\n",
       "      <td>218.081158</td>\n",
       "    </tr>\n",
       "    <tr>\n",
       "      <th>UnitPrice</th>\n",
       "      <td>541909.0</td>\n",
       "      <td>4.611114</td>\n",
       "      <td>-11062.06</td>\n",
       "      <td>1.25</td>\n",
       "      <td>2.08</td>\n",
       "      <td>4.13</td>\n",
       "      <td>38970.0</td>\n",
       "      <td>96.759853</td>\n",
       "    </tr>\n",
       "    <tr>\n",
       "      <th>TotalPrice</th>\n",
       "      <td>541909.0</td>\n",
       "      <td>17.987795</td>\n",
       "      <td>-168469.6</td>\n",
       "      <td>3.4</td>\n",
       "      <td>9.75</td>\n",
       "      <td>17.4</td>\n",
       "      <td>168469.6</td>\n",
       "      <td>378.810824</td>\n",
       "    </tr>\n",
       "  </tbody>\n",
       "</table>\n",
       "</div>"
      ],
      "text/plain": [
       "                count                           mean                  min  \\\n",
       "InvoiceDate    541909  2011-07-04 13:34:57.156386048  2010-12-01 08:26:00   \n",
       "Quantity     541909.0                        9.55225             -80995.0   \n",
       "UnitPrice    541909.0                       4.611114            -11062.06   \n",
       "TotalPrice   541909.0                      17.987795            -168469.6   \n",
       "\n",
       "                             25%                  50%                  75%  \\\n",
       "InvoiceDate  2011-03-28 11:34:00  2011-07-19 17:17:00  2011-10-19 11:27:00   \n",
       "Quantity                     1.0                  3.0                 10.0   \n",
       "UnitPrice                   1.25                 2.08                 4.13   \n",
       "TotalPrice                   3.4                 9.75                 17.4   \n",
       "\n",
       "                             max         std  \n",
       "InvoiceDate  2011-12-09 12:50:00         NaN  \n",
       "Quantity                 80995.0  218.081158  \n",
       "UnitPrice                38970.0   96.759853  \n",
       "TotalPrice              168469.6  378.810824  "
      ]
     },
     "metadata": {},
     "output_type": "display_data"
    },
    {
     "data": {
      "text/html": [
       "<div>\n",
       "<style scoped>\n",
       "    .dataframe tbody tr th:only-of-type {\n",
       "        vertical-align: middle;\n",
       "    }\n",
       "\n",
       "    .dataframe tbody tr th {\n",
       "        vertical-align: top;\n",
       "    }\n",
       "\n",
       "    .dataframe thead th {\n",
       "        text-align: right;\n",
       "    }\n",
       "</style>\n",
       "<table border=\"1\" class=\"dataframe\">\n",
       "  <thead>\n",
       "    <tr style=\"text-align: right;\">\n",
       "      <th></th>\n",
       "      <th>InvoiceDate</th>\n",
       "      <th>Quantity</th>\n",
       "      <th>UnitPrice</th>\n",
       "      <th>TotalPrice</th>\n",
       "    </tr>\n",
       "  </thead>\n",
       "  <tbody>\n",
       "    <tr>\n",
       "      <th>0</th>\n",
       "      <td>2010-12-01 08:26:00</td>\n",
       "      <td>6</td>\n",
       "      <td>2.55</td>\n",
       "      <td>15.30</td>\n",
       "    </tr>\n",
       "    <tr>\n",
       "      <th>1</th>\n",
       "      <td>2010-12-01 08:26:00</td>\n",
       "      <td>6</td>\n",
       "      <td>3.39</td>\n",
       "      <td>20.34</td>\n",
       "    </tr>\n",
       "    <tr>\n",
       "      <th>2</th>\n",
       "      <td>2010-12-01 08:26:00</td>\n",
       "      <td>8</td>\n",
       "      <td>2.75</td>\n",
       "      <td>22.00</td>\n",
       "    </tr>\n",
       "    <tr>\n",
       "      <th>3</th>\n",
       "      <td>2010-12-01 08:26:00</td>\n",
       "      <td>6</td>\n",
       "      <td>3.39</td>\n",
       "      <td>20.34</td>\n",
       "    </tr>\n",
       "    <tr>\n",
       "      <th>4</th>\n",
       "      <td>2010-12-01 08:26:00</td>\n",
       "      <td>6</td>\n",
       "      <td>3.39</td>\n",
       "      <td>20.34</td>\n",
       "    </tr>\n",
       "  </tbody>\n",
       "</table>\n",
       "</div>"
      ],
      "text/plain": [
       "          InvoiceDate  Quantity  UnitPrice  TotalPrice\n",
       "0 2010-12-01 08:26:00         6       2.55       15.30\n",
       "1 2010-12-01 08:26:00         6       3.39       20.34\n",
       "2 2010-12-01 08:26:00         8       2.75       22.00\n",
       "3 2010-12-01 08:26:00         6       3.39       20.34\n",
       "4 2010-12-01 08:26:00         6       3.39       20.34"
      ]
     },
     "metadata": {},
     "output_type": "display_data"
    }
   ],
   "source": [
    "# Convert InvoiceDate to datetime\n",
    "df['InvoiceDate'] = pd.to_datetime(df['InvoiceDate'], errors='coerce')\n",
    "\n",
    "# Force numeric types\n",
    "df['Quantity'] = pd.to_numeric(df['Quantity'], errors='coerce')\n",
    "df['UnitPrice'] = pd.to_numeric(df['UnitPrice'], errors='coerce')\n",
    "\n",
    "# Create TotalPrice\n",
    "df['TotalPrice'] = df['Quantity'] * df['UnitPrice']\n",
    "\n",
    "# Quick checks\n",
    "display(df[['InvoiceDate','Quantity','UnitPrice','TotalPrice']].describe(include='all').T)\n",
    "display(df[['InvoiceDate','Quantity','UnitPrice','TotalPrice']].head())\n"
   ]
  },
  {
   "cell_type": "markdown",
   "id": "0e7adf6e-3447-4b07-829a-42204ca05cf4",
   "metadata": {},
   "source": [
    "## 5. Data Cleaning – Fixing Invalid or Unrealistic Values\n",
    "\n",
    "Before any analysis, we must ensure our dataset is **clean and reliable**.  \n",
    "E-commerce data often includes errors like:\n",
    "- Negative or zero quantities (returns, input mistakes)\n",
    "- Unrealistically high prices or quantities (data entry errors)\n",
    "- Missing Customer IDs  \n",
    "\n",
    "We'll fix these step by step to prepare a high-quality dataset.\n"
   ]
  },
  {
   "cell_type": "code",
   "execution_count": 10,
   "id": "7d384267-c539-4f04-8e17-70b8f40dd3f4",
   "metadata": {},
   "outputs": [
    {
     "name": "stdout",
     "output_type": "stream",
     "text": [
      "            Quantity      UnitPrice     TotalPrice\n",
      "count  397884.000000  397884.000000  397884.000000\n",
      "mean       12.988238       3.116488      22.397000\n",
      "std       179.331775      22.097877     309.071041\n",
      "min         1.000000       0.001000       0.001000\n",
      "25%         2.000000       1.250000       4.680000\n",
      "50%         6.000000       1.950000      11.800000\n",
      "75%        12.000000       3.750000      19.800000\n",
      "max     80995.000000    8142.750000  168469.600000\n"
     ]
    }
   ],
   "source": [
    "# Remove negative or zero quantities and prices\n",
    "df = df[(df['Quantity'] > 0) & (df['UnitPrice'] > 0)]\n",
    "\n",
    "# Drop missing Customer IDs (often needed for RFM)\n",
    "df = df.dropna(subset=['CustomerID'])\n",
    "\n",
    "# Recalculate total after cleaning\n",
    "df['TotalPrice'] = df['Quantity'] * df['UnitPrice']\n",
    "\n",
    "# Check summary again\n",
    "print(df[['Quantity','UnitPrice','TotalPrice']].describe())\n"
   ]
  },
  {
   "cell_type": "markdown",
   "id": "3a4a6c66-9706-49e4-8300-b6d2eb765adb",
   "metadata": {},
   "source": [
    "### 📊 Step 2: Detect and Remove Extreme Outliers\n",
    "\n",
    "Even after removing invalid rows, we may still have **outliers** —  \n",
    "values that are too high or too low compared to most of the data.  \n",
    "\n",
    "We'll use the **Interquartile Range (IQR)** method, a robust statistical technique that detects and removes such extreme values.\n"
   ]
  },
  {
   "cell_type": "code",
   "execution_count": 11,
   "id": "f802829e-a216-437e-9ee6-d64351c4a957",
   "metadata": {},
   "outputs": [
    {
     "data": {
      "text/html": [
       "<div>\n",
       "<style scoped>\n",
       "    .dataframe tbody tr th:only-of-type {\n",
       "        vertical-align: middle;\n",
       "    }\n",
       "\n",
       "    .dataframe tbody tr th {\n",
       "        vertical-align: top;\n",
       "    }\n",
       "\n",
       "    .dataframe thead th {\n",
       "        text-align: right;\n",
       "    }\n",
       "</style>\n",
       "<table border=\"1\" class=\"dataframe\">\n",
       "  <thead>\n",
       "    <tr style=\"text-align: right;\">\n",
       "      <th></th>\n",
       "      <th>Quantity</th>\n",
       "      <th>UnitPrice</th>\n",
       "      <th>TotalPrice</th>\n",
       "    </tr>\n",
       "  </thead>\n",
       "  <tbody>\n",
       "    <tr>\n",
       "      <th>count</th>\n",
       "      <td>338151.000000</td>\n",
       "      <td>338151.000000</td>\n",
       "      <td>338151.000000</td>\n",
       "    </tr>\n",
       "    <tr>\n",
       "      <th>mean</th>\n",
       "      <td>7.476917</td>\n",
       "      <td>2.192017</td>\n",
       "      <td>12.771994</td>\n",
       "    </tr>\n",
       "    <tr>\n",
       "      <th>std</th>\n",
       "      <td>6.770795</td>\n",
       "      <td>1.544770</td>\n",
       "      <td>13.177003</td>\n",
       "    </tr>\n",
       "    <tr>\n",
       "      <th>min</th>\n",
       "      <td>1.000000</td>\n",
       "      <td>0.001000</td>\n",
       "      <td>0.001000</td>\n",
       "    </tr>\n",
       "    <tr>\n",
       "      <th>25%</th>\n",
       "      <td>2.000000</td>\n",
       "      <td>1.250000</td>\n",
       "      <td>3.800000</td>\n",
       "    </tr>\n",
       "    <tr>\n",
       "      <th>50%</th>\n",
       "      <td>6.000000</td>\n",
       "      <td>1.650000</td>\n",
       "      <td>10.080000</td>\n",
       "    </tr>\n",
       "    <tr>\n",
       "      <th>75%</th>\n",
       "      <td>12.000000</td>\n",
       "      <td>2.950000</td>\n",
       "      <td>17.400000</td>\n",
       "    </tr>\n",
       "    <tr>\n",
       "      <th>max</th>\n",
       "      <td>27.000000</td>\n",
       "      <td>7.500000</td>\n",
       "      <td>178.800000</td>\n",
       "    </tr>\n",
       "  </tbody>\n",
       "</table>\n",
       "</div>"
      ],
      "text/plain": [
       "            Quantity      UnitPrice     TotalPrice\n",
       "count  338151.000000  338151.000000  338151.000000\n",
       "mean        7.476917       2.192017      12.771994\n",
       "std         6.770795       1.544770      13.177003\n",
       "min         1.000000       0.001000       0.001000\n",
       "25%         2.000000       1.250000       3.800000\n",
       "50%         6.000000       1.650000      10.080000\n",
       "75%        12.000000       2.950000      17.400000\n",
       "max        27.000000       7.500000     178.800000"
      ]
     },
     "execution_count": 11,
     "metadata": {},
     "output_type": "execute_result"
    }
   ],
   "source": [
    "# Function to remove outliers using IQR method\n",
    "def remove_outliers_iqr(df, column):\n",
    "    Q1 = df[column].quantile(0.25)\n",
    "    Q3 = df[column].quantile(0.75)\n",
    "    IQR = Q3 - Q1\n",
    "    lower_bound = Q1 - 1.5 * IQR\n",
    "    upper_bound = Q3 + 1.5 * IQR\n",
    "    return df[(df[column] >= lower_bound) & (df[column] <= upper_bound)]\n",
    "\n",
    "# Apply to Quantity and UnitPrice\n",
    "df = remove_outliers_iqr(df, 'Quantity')\n",
    "df = remove_outliers_iqr(df, 'UnitPrice')\n",
    "\n",
    "# Recalculate TotalPrice\n",
    "df['TotalPrice'] = df['Quantity'] * df['UnitPrice']\n",
    "\n",
    "# Check again after removing outliers\n",
    "df[['Quantity', 'UnitPrice', 'TotalPrice']].describe()\n"
   ]
  },
  {
   "cell_type": "markdown",
   "id": "45624867-0708-4409-a2bb-9b1875e1dca9",
   "metadata": {},
   "source": [
    "## 6. Duplicates & suspicious rows\n",
    "Check for exact duplicates and near duplicates and decide how to handle them.\n"
   ]
  },
  {
   "cell_type": "code",
   "execution_count": 19,
   "id": "a89c4e64-16d0-4c6f-bf99-3547a4b8c074",
   "metadata": {},
   "outputs": [
    {
     "name": "stdout",
     "output_type": "stream",
     "text": [
      "Exact duplicate rows: 0\n",
      "Duplicates by key columns: 1\n",
      "Unique customers: 4191\n",
      "Unique invoices: 16826\n"
     ]
    }
   ],
   "source": [
    "# Check for exact duplicates\n",
    "dup_exact = df.duplicated().sum()\n",
    "print(\"Exact duplicate rows:\", dup_exact)\n",
    "\n",
    "# Drop if any\n",
    "if dup_exact > 0:\n",
    "    df = df.drop_duplicates()\n",
    "    print(\"Dropped duplicates. New shape:\", df.shape)\n",
    "\n",
    "# Check partial duplicates (key columns)\n",
    "dup_partial = df.duplicated(subset=['InvoiceNo','StockCode','Quantity','UnitPrice','InvoiceDate']).sum()\n",
    "print(\"Duplicates by key columns:\", dup_partial)\n",
    "\n",
    "# Unique count summary\n",
    "print(\"Unique customers:\", df['CustomerID'].nunique())\n",
    "print(\"Unique invoices:\", df['InvoiceNo'].nunique())\n"
   ]
  },
  {
   "cell_type": "markdown",
   "id": "bd5a3a14-1ec7-49a0-a22a-54ecf064a6d7",
   "metadata": {},
   "source": [
    "## 7. Exploratory checks & visualizations (QC)\n",
    "Run basic EDA to understand distributions: time distribution, top products, revenue distribution, and outliers.\n"
   ]
  },
  {
   "cell_type": "code",
   "execution_count": 15,
   "id": "8237bdde-aa94-471b-ae47-3817b11c2a95",
   "metadata": {},
   "outputs": [
    {
     "data": {
      "image/png": "[encoded data removed]",
      "text/plain": [
       "<Figure size 1200x400 with 1 Axes>"
      ]
     },
     "metadata": {},
     "output_type": "display_data"
    },
    {
     "name": "stdout",
     "output_type": "stream",
     "text": [
      "Total Revenue: 4299476.183999999\n"
     ]
    },
    {
     "data": {
      "text/plain": [
       "count    333234.000000\n",
       "mean         12.902273\n",
       "std          13.214967\n",
       "min           0.001000\n",
       "25%           3.900000\n",
       "50%          10.140000\n",
       "75%          17.400000\n",
       "max         178.800000\n",
       "Name: TotalPrice, dtype: float64"
      ]
     },
     "metadata": {},
     "output_type": "display_data"
    },
    {
     "data": {
      "image/png": "[encoded data removed]",
      "text/plain": [
       "<Figure size 1000x400 with 1 Axes>"
      ]
     },
     "metadata": {},
     "output_type": "display_data"
    },
    {
     "data": {
      "text/plain": [
       "Description\n",
       "PARTY BUNTING                         34952.85\n",
       "WHITE HANGING HEART T-LIGHT HOLDER    31763.76\n",
       "JUMBO BAG RED RETROSPOT               24923.50\n",
       "SPOTTY BUNTING                        23513.05\n",
       "ASSORTED COLOUR BIRD ORNAMENT         22940.06\n",
       "JAM MAKING SET WITH JARS              21137.25\n",
       "HOT WATER BOTTLE KEEP CALM            20617.35\n",
       "SET OF 3 CAKE TINS PANTRY DESIGN      20583.97\n",
       "CHOCOLATE HOT WATER BOTTLE            18422.85\n",
       "CHILLI LIGHTS                         18379.80\n",
       "Name: TotalPrice, dtype: float64"
      ]
     },
     "metadata": {},
     "output_type": "display_data"
    },
    {
     "data": {
      "text/plain": [
       "CustomerID\n",
       "14911.0    84980.89\n",
       "13089.0    36347.88\n",
       "14096.0    36019.84\n",
       "17841.0    32224.59\n",
       "14298.0    24387.53\n",
       "12748.0    20519.88\n",
       "14156.0    18276.11\n",
       "13081.0    17925.53\n",
       "15311.0    17712.96\n",
       "14088.0    15700.62\n",
       "Name: TotalPrice, dtype: float64"
      ]
     },
     "metadata": {},
     "output_type": "display_data"
    }
   ],
   "source": [
    "# Use df instead of df_clean\n",
    "df['InvoiceWeek'] = df['InvoiceDate'].dt.to_period('W').apply(lambda r: r.start_time)\n",
    "\n",
    "# Transactions per week\n",
    "weekly_counts = df.groupby('InvoiceWeek').size().rename('transactions').reset_index()\n",
    "plt.figure(figsize=(12,4))\n",
    "plt.plot(weekly_counts['InvoiceWeek'], weekly_counts['transactions'])\n",
    "plt.title(\"Weekly transaction counts\")\n",
    "plt.xlabel(\"Week\")\n",
    "plt.ylabel(\"Transactions\")\n",
    "plt.xticks(rotation=45)\n",
    "plt.tight_layout()\n",
    "plt.show()\n",
    "\n",
    "# Revenue summary\n",
    "print(\"Total Revenue:\", df['TotalPrice'].sum())\n",
    "display(df['TotalPrice'].describe())\n",
    "\n",
    "plt.figure(figsize=(10,4))\n",
    "sns.histplot(df['TotalPrice'].clip(lower=0), bins=100, log_scale=(False, True))\n",
    "plt.title(\"Distribution of Transaction TotalPrice (log y-scale)\")\n",
    "plt.show()\n",
    "\n",
    "# Top 10 products by revenue\n",
    "top_products = df.groupby('Description')['TotalPrice'].sum().sort_values(ascending=False).head(10)\n",
    "display(top_products)\n",
    "\n",
    "# Top 10 customers by revenue\n",
    "top_customers = df.groupby('CustomerID')['TotalPrice'].sum().sort_values(ascending=False).head(10)\n",
    "display(top_customers)\n",
    "\n"
   ]
  },
  {
   "cell_type": "markdown",
   "id": "10c47f95-286e-4113-af25-8afb34d57aca",
   "metadata": {},
   "source": [
    "## 8. Saving Cleaned Dataset\n",
    "Now that the data has been cleaned, let's summarize what remains and save it for further RFM (Recency, Frequency, Monetary) analysis.\n"
   ]
  },
  {
   "cell_type": "code",
   "execution_count": 20,
   "id": "234b4b62-3463-4a58-8d7b-5cd7f92a0ef0",
   "metadata": {},
   "outputs": [
    {
     "name": "stdout",
     "output_type": "stream",
     "text": [
      "Final total rows: 333234\n",
      "Unique customers: 4191\n",
      "Date range: 2010-12-01 08:26:00 to 2011-12-09 12:50:00\n",
      "Files saved in: C:\\Users\\AZAN LAPTOP STORE\\Downloads\\Portfolio\\Projects\\Customer Segmentation & Retention Analysis (RFM Model)\\data\n"
     ]
    }
   ],
   "source": [
    "# Get total rows after cleaning\n",
    "final_rows = df.shape[0]\n",
    "\n",
    "# Basic data summary\n",
    "print(\"Final total rows:\", final_rows)\n",
    "print(\"Unique customers:\", df['CustomerID'].nunique())\n",
    "print(\"Date range:\", df['InvoiceDate'].min(), \"to\", df['InvoiceDate'].max())\n",
    "\n",
    "save_path = r\"C:\\Users\\AZAN LAPTOP STORE\\Downloads\\Portfolio\\Projects\\Customer Segmentation & Retention Analysis (RFM Model)\\data\"\n",
    "\n",
    "df.to_csv(os.path.join(save_path, \"online_retail_cleaned.csv\"), index=False)\n",
    "df.sample(100, random_state=42).to_csv(os.path.join(save_path, \"online_retail_sample100.csv\"), index=False)\n",
    "\n",
    "print(\"Files saved in:\", save_path)\n"
   ]
  },
  {
   "cell_type": "markdown",
   "id": "f4c23a4d-8930-4776-93f4-5159a05b66e0",
   "metadata": {},
   "source": [
    "## 9. Notes to include in README & documentation\n",
    "- Source: Kaggle Online Retail dataset (record source URL + download date)\n",
    "- Key cleaning decisions:\n",
    "  - Dropped rows with missing `CustomerID` because RFM requires unique customers.\n",
    "  - Removed returns (Quantity <= 0) and cancelled invoices (InvoiceNo starting with 'C') from main RFM dataset. A separate returns file is saved for later analysis.\n",
    "  - Converted `InvoiceDate` to datetime and created `TotalPrice = Quantity * UnitPrice`.\n",
    "  - Removed exact duplicates after inspection.\n"
   ]
  },
  {
   "cell_type": "code",
   "execution_count": null,
   "id": "6adc0ad4-d272-495c-8f14-37c0bcaa28cc",
   "metadata": {},
   "outputs": [],
   "source": []
  }
 ],
 "metadata": {
  "kernelspec": {
   "display_name": "Python 3",
   "language": "python",
   "name": "python3"
  },
  "language_info": {
   "codemirror_mode": {
    "name": "ipython",
    "version": 3
   },
   "file_extension": ".py",
   "mimetype": "text/x-python",
   "name": "python",
   "nbconvert_exporter": "python",
   "pygments_lexer": "ipython3",
   "version": "3.13.5"
  }
 },
 "nbformat": 4,
 "nbformat_minor": 5
}

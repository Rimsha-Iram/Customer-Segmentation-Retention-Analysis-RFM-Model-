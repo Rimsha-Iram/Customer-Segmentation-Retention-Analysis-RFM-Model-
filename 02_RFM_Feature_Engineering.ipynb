{
 "cells": [
  {
   "cell_type": "markdown",
   "id": "485329ae-6b66-4927-8577-d34103185533",
   "metadata": {},
   "source": [
    "<div align=\"center\">\n",
    "\n",
    "# Customer Segmentation & Retention Analysis (RFM Model)\n",
    "### Data Cleaning • Exploration • Segmentation • Insights\n",
    "\n",
    "</div>"
   ]
  },
  {
   "cell_type": "markdown",
   "id": "af7c9977-bc20-4993-ae83-1beeb4072906",
   "metadata": {},
   "source": [
    "# 02_RFM Feature Engineering\n",
    "**Goal:** Derive Recency, Frequency, and Monetary features for each customer to prepare for RFM scoring and segmentation.\n",
    "\n",
    "---\n",
    "\n",
    "## 📂 Work Structure\n",
    "We’ll follow these structured steps, similar to previous phases:\n",
    "1. Notebook Setup  \n",
    "2. Reference Date Setup  \n",
    "3. RFM Feature Calculation  \n",
    "4. Outlier & Edge Case Handling  \n",
    "5. Exploratory Checks  \n",
    "6. Export & Summary\n",
    "\n",
    "---"
   ]
  },
  {
   "cell_type": "markdown",
   "id": "8ee465c7-a334-4e1a-90d4-69066af94ef1",
   "metadata": {},
   "source": [
    "## Step 1 — Notebook Setup\n",
    "\n",
    "We begin by importing required libraries and loading the cleaned dataset generated in Phase B.\n",
    "\n",
    "We’ll check the shape, columns, and first few rows to confirm data readiness for feature engineering.\n"
   ]
  },
  {
   "cell_type": "code",
   "execution_count": 1,
   "id": "27aabab5-d8dd-46e8-b7a8-66a41bd6c9cb",
   "metadata": {},
   "outputs": [
    {
     "name": "stdout",
     "output_type": "stream",
     "text": [
      "Shape: (333234, 10)\n",
      "Columns: ['InvoiceNo', 'StockCode', 'Description', 'Quantity', 'InvoiceDate', 'UnitPrice', 'CustomerID', 'Country', 'TotalPrice', 'InvoiceWeek']\n"
     ]
    },
    {
     "data": {
      "text/html": [
       "<div>\n",
       "<style scoped>\n",
       "    .dataframe tbody tr th:only-of-type {\n",
       "        vertical-align: middle;\n",
       "    }\n",
       "\n",
       "    .dataframe tbody tr th {\n",
       "        vertical-align: top;\n",
       "    }\n",
       "\n",
       "    .dataframe thead th {\n",
       "        text-align: right;\n",
       "    }\n",
       "</style>\n",
       "<table border=\"1\" class=\"dataframe\">\n",
       "  <thead>\n",
       "    <tr style=\"text-align: right;\">\n",
       "      <th></th>\n",
       "      <th>InvoiceNo</th>\n",
       "      <th>StockCode</th>\n",
       "      <th>Description</th>\n",
       "      <th>Quantity</th>\n",
       "      <th>InvoiceDate</th>\n",
       "      <th>UnitPrice</th>\n",
       "      <th>CustomerID</th>\n",
       "      <th>Country</th>\n",
       "      <th>TotalPrice</th>\n",
       "      <th>InvoiceWeek</th>\n",
       "    </tr>\n",
       "  </thead>\n",
       "  <tbody>\n",
       "    <tr>\n",
       "      <th>0</th>\n",
       "      <td>536365</td>\n",
       "      <td>85123A</td>\n",
       "      <td>WHITE HANGING HEART T-LIGHT HOLDER</td>\n",
       "      <td>6</td>\n",
       "      <td>2010-12-01 08:26:00</td>\n",
       "      <td>2.55</td>\n",
       "      <td>17850.00</td>\n",
       "      <td>United Kingdom</td>\n",
       "      <td>15.30</td>\n",
       "      <td>2010-11-29</td>\n",
       "    </tr>\n",
       "    <tr>\n",
       "      <th>1</th>\n",
       "      <td>536365</td>\n",
       "      <td>71053</td>\n",
       "      <td>WHITE METAL LANTERN</td>\n",
       "      <td>6</td>\n",
       "      <td>2010-12-01 08:26:00</td>\n",
       "      <td>3.39</td>\n",
       "      <td>17850.00</td>\n",
       "      <td>United Kingdom</td>\n",
       "      <td>20.34</td>\n",
       "      <td>2010-11-29</td>\n",
       "    </tr>\n",
       "    <tr>\n",
       "      <th>2</th>\n",
       "      <td>536365</td>\n",
       "      <td>84406B</td>\n",
       "      <td>CREAM CUPID HEARTS COAT HANGER</td>\n",
       "      <td>8</td>\n",
       "      <td>2010-12-01 08:26:00</td>\n",
       "      <td>2.75</td>\n",
       "      <td>17850.00</td>\n",
       "      <td>United Kingdom</td>\n",
       "      <td>22.00</td>\n",
       "      <td>2010-11-29</td>\n",
       "    </tr>\n",
       "    <tr>\n",
       "      <th>3</th>\n",
       "      <td>536365</td>\n",
       "      <td>84029G</td>\n",
       "      <td>KNITTED UNION FLAG HOT WATER BOTTLE</td>\n",
       "      <td>6</td>\n",
       "      <td>2010-12-01 08:26:00</td>\n",
       "      <td>3.39</td>\n",
       "      <td>17850.00</td>\n",
       "      <td>United Kingdom</td>\n",
       "      <td>20.34</td>\n",
       "      <td>2010-11-29</td>\n",
       "    </tr>\n",
       "    <tr>\n",
       "      <th>4</th>\n",
       "      <td>536365</td>\n",
       "      <td>84029E</td>\n",
       "      <td>RED WOOLLY HOTTIE WHITE HEART.</td>\n",
       "      <td>6</td>\n",
       "      <td>2010-12-01 08:26:00</td>\n",
       "      <td>3.39</td>\n",
       "      <td>17850.00</td>\n",
       "      <td>United Kingdom</td>\n",
       "      <td>20.34</td>\n",
       "      <td>2010-11-29</td>\n",
       "    </tr>\n",
       "  </tbody>\n",
       "</table>\n",
       "</div>"
      ],
      "text/plain": [
       "   InvoiceNo StockCode                          Description  Quantity  \\\n",
       "0     536365    85123A   WHITE HANGING HEART T-LIGHT HOLDER         6   \n",
       "1     536365     71053                  WHITE METAL LANTERN         6   \n",
       "2     536365    84406B       CREAM CUPID HEARTS COAT HANGER         8   \n",
       "3     536365    84029G  KNITTED UNION FLAG HOT WATER BOTTLE         6   \n",
       "4     536365    84029E       RED WOOLLY HOTTIE WHITE HEART.         6   \n",
       "\n",
       "           InvoiceDate  UnitPrice  CustomerID         Country  TotalPrice  \\\n",
       "0  2010-12-01 08:26:00       2.55    17850.00  United Kingdom       15.30   \n",
       "1  2010-12-01 08:26:00       3.39    17850.00  United Kingdom       20.34   \n",
       "2  2010-12-01 08:26:00       2.75    17850.00  United Kingdom       22.00   \n",
       "3  2010-12-01 08:26:00       3.39    17850.00  United Kingdom       20.34   \n",
       "4  2010-12-01 08:26:00       3.39    17850.00  United Kingdom       20.34   \n",
       "\n",
       "  InvoiceWeek  \n",
       "0  2010-11-29  \n",
       "1  2010-11-29  \n",
       "2  2010-11-29  \n",
       "3  2010-11-29  \n",
       "4  2010-11-29  "
      ]
     },
     "execution_count": 1,
     "metadata": {},
     "output_type": "execute_result"
    }
   ],
   "source": [
    "# Importing essential libraries\n",
    "import pandas as pd\n",
    "import numpy as np\n",
    "import matplotlib.pyplot as plt\n",
    "\n",
    "# Setting pandas display options for better visibility\n",
    "pd.set_option('display.float_format', lambda x: '%.2f' % x)\n",
    "\n",
    "# Load the cleaned dataset (from Phase B)\n",
    "df = pd.read_csv(r\"C:\\Users\\AZAN LAPTOP STORE\\Downloads\\Portfolio\\Projects\\Customer Segmentation & Retention Analysis (RFM Model)\\data\\online_retail_cleaned.csv\")\n",
    "\n",
    "# Basic info\n",
    "print(\"Shape:\", df.shape)\n",
    "print(\"Columns:\", df.columns.tolist())\n",
    "\n",
    "# Preview first few rows\n",
    "df.head()\n"
   ]
  },
  {
   "cell_type": "markdown",
   "id": "98b49ee4-7bb0-4d67-8af3-5e3d5df27869",
   "metadata": {},
   "source": [
    "## Step 2 — Reference Date Setup\n",
    "\n",
    "RFM requires a *reference date* — typically one day after the last recorded transaction.\n",
    "\n",
    "- **Recency** will be calculated as: days since last purchase (`reference_date - last_purchase_date`).\n",
    "- This helps us understand how recently each customer bought something.\n"
   ]
  },
  {
   "cell_type": "code",
   "execution_count": 2,
   "id": "54e22a50-fa38-46dd-9998-af5a308e23c8",
   "metadata": {},
   "outputs": [
    {
     "name": "stdout",
     "output_type": "stream",
     "text": [
      "Reference Date: 2011-12-10 12:50:00\n"
     ]
    }
   ],
   "source": [
    "# Convert InvoiceDate column to datetime (if not already)\n",
    "df['InvoiceDate'] = pd.to_datetime(df['InvoiceDate'], errors='coerce')\n",
    "\n",
    "# Define reference date: one day after last transaction date\n",
    "reference_date = df['InvoiceDate'].max() + pd.Timedelta(days=1)\n",
    "print(\"Reference Date:\", reference_date)\n"
   ]
  },
  {
   "cell_type": "markdown",
   "id": "3487521b-99fa-4dbf-b526-919a7300fc8d",
   "metadata": {},
   "source": [
    "## Step 3 — RFM Feature Calculation\n",
    "\n",
    "We now group transactions by **CustomerID** and calculate:\n",
    "- **Recency:** Days since last purchase\n",
    "- **Frequency:** Number of unique invoices\n",
    "- **Monetary:** Total amount spent\n",
    "\n",
    "This step converts transactional data into customer-level summaries.\n"
   ]
  },
  {
   "cell_type": "code",
   "execution_count": 3,
   "id": "23a78798-565b-4baf-938b-37dbb1c26cc9",
   "metadata": {},
   "outputs": [
    {
     "data": {
      "text/html": [
       "<div>\n",
       "<style scoped>\n",
       "    .dataframe tbody tr th:only-of-type {\n",
       "        vertical-align: middle;\n",
       "    }\n",
       "\n",
       "    .dataframe tbody tr th {\n",
       "        vertical-align: top;\n",
       "    }\n",
       "\n",
       "    .dataframe thead th {\n",
       "        text-align: right;\n",
       "    }\n",
       "</style>\n",
       "<table border=\"1\" class=\"dataframe\">\n",
       "  <thead>\n",
       "    <tr style=\"text-align: right;\">\n",
       "      <th></th>\n",
       "      <th>CustomerID</th>\n",
       "      <th>Recency</th>\n",
       "      <th>Frequency</th>\n",
       "      <th>Monetary</th>\n",
       "    </tr>\n",
       "  </thead>\n",
       "  <tbody>\n",
       "    <tr>\n",
       "      <th>0</th>\n",
       "      <td>12347.00</td>\n",
       "      <td>2</td>\n",
       "      <td>7</td>\n",
       "      <td>3314.73</td>\n",
       "    </tr>\n",
       "    <tr>\n",
       "      <th>1</th>\n",
       "      <td>12348.00</td>\n",
       "      <td>249</td>\n",
       "      <td>3</td>\n",
       "      <td>90.20</td>\n",
       "    </tr>\n",
       "    <tr>\n",
       "      <th>2</th>\n",
       "      <td>12349.00</td>\n",
       "      <td>19</td>\n",
       "      <td>1</td>\n",
       "      <td>999.15</td>\n",
       "    </tr>\n",
       "    <tr>\n",
       "      <th>3</th>\n",
       "      <td>12350.00</td>\n",
       "      <td>310</td>\n",
       "      <td>1</td>\n",
       "      <td>294.40</td>\n",
       "    </tr>\n",
       "    <tr>\n",
       "      <th>4</th>\n",
       "      <td>12352.00</td>\n",
       "      <td>36</td>\n",
       "      <td>7</td>\n",
       "      <td>1130.94</td>\n",
       "    </tr>\n",
       "  </tbody>\n",
       "</table>\n",
       "</div>"
      ],
      "text/plain": [
       "   CustomerID  Recency  Frequency  Monetary\n",
       "0    12347.00        2          7   3314.73\n",
       "1    12348.00      249          3     90.20\n",
       "2    12349.00       19          1    999.15\n",
       "3    12350.00      310          1    294.40\n",
       "4    12352.00       36          7   1130.94"
      ]
     },
     "execution_count": 3,
     "metadata": {},
     "output_type": "execute_result"
    }
   ],
   "source": [
    "# Group by CustomerID to calculate R, F, M\n",
    "rfm = df.groupby('CustomerID').agg({\n",
    "    'InvoiceDate': lambda x: (reference_date - x.max()).days,\n",
    "    'InvoiceNo': 'nunique',\n",
    "    'TotalPrice': 'sum'\n",
    "}).reset_index()\n",
    "\n",
    "# Rename columns for clarity\n",
    "rfm.columns = ['CustomerID', 'Recency', 'Frequency', 'Monetary']\n",
    "\n",
    "# Preview first few records\n",
    "rfm.head()\n"
   ]
  },
  {
   "cell_type": "markdown",
   "id": "ccd8efcc-4649-411c-a2de-a864162203f2",
   "metadata": {},
   "source": [
    "## Step 4 — Handle Outliers & Edge Cases\n",
    "\n",
    "After computing RFM metrics, we ensure no invalid or zero-value customers remain.\n",
    "\n",
    "- Remove records with **Monetary ≤ 0** or **Frequency = 0**.\n",
    "- This ensures meaningful RFM interpretation.\n"
   ]
  },
  {
   "cell_type": "code",
   "execution_count": 4,
   "id": "f5c45f71-8a5d-4139-a604-11de28a11560",
   "metadata": {},
   "outputs": [
    {
     "name": "stdout",
     "output_type": "stream",
     "text": [
      "Invalid customer entries (to remove): 0\n"
     ]
    },
    {
     "data": {
      "text/plain": [
       "(4191, 4)"
      ]
     },
     "execution_count": 4,
     "metadata": {},
     "output_type": "execute_result"
    }
   ],
   "source": [
    "# Count invalid cases before filtering\n",
    "invalid_count = rfm[(rfm['Monetary'] <= 0) | (rfm['Frequency'] <= 0)].shape[0]\n",
    "print(f\"Invalid customer entries (to remove): {invalid_count}\")\n",
    "\n",
    "# Filter out invalid rows\n",
    "rfm = rfm[(rfm['Monetary'] > 0) & (rfm['Frequency'] > 0)].copy()\n",
    "\n",
    "# Check result\n",
    "rfm.shape\n"
   ]
  },
  {
   "cell_type": "markdown",
   "id": "eb6f8ef9-74b9-40c8-aebb-ee10d366f649",
   "metadata": {},
   "source": [
    "## Step 5 — Exploratory Checks\n",
    "\n",
    "We’ll review RFM summary statistics and visualize their distributions.\n",
    "\n",
    "This helps identify data ranges and skewness before scoring.\n"
   ]
  },
  {
   "cell_type": "code",
   "execution_count": 6,
   "id": "9ac7c8b4-04e0-493a-a81a-2275d6e68b5b",
   "metadata": {},
   "outputs": [
    {
     "data": {
      "image/png": "[encoded data removed]",
      "text/plain": [
       "<Figure size 1000x600 with 4 Axes>"
      ]
     },
     "metadata": {},
     "output_type": "display_data"
    }
   ],
   "source": [
    "# Summary statistics\n",
    "rfm.describe().T\n",
    "# Simple histograms for each metric\n",
    "rfm[['Recency', 'Frequency', 'Monetary']].hist(bins=30, figsize=(10, 6))\n",
    "plt.suptitle('RFM Distributions', fontsize=14)\n",
    "plt.show()"
   ]
  },
  {
   "cell_type": "markdown",
   "id": "1f6225d3-a344-4624-8a35-7f09c04896a2",
   "metadata": {},
   "source": [
    "## Step 6 — RFM Scoring & Final Export\n",
    "\n",
    "Now that we’ve calculated raw Recency, Frequency, and Monetary metrics,  \n",
    "we’ll convert them into **standardized 1–5 scores** for segmentation purposes.\n",
    "\n",
    "**Why Scoring?**  \n",
    "R, F, M values have very different scales (e.g., days vs money vs counts).  \n",
    "To compare customers fairly, we use **quantile-based scoring**:\n",
    "- Lower *Recency* → better (recent buyers) → higher score  \n",
    "- Higher *Frequency* and *Monetary* → better → higher score  \n",
    "\n",
    "We’ll also:\n",
    "- Add a log-transformed version of Monetary to handle skewed values.\n",
    "- Concatenate scores into one combined `RFM_score` string.\n",
    "- Document the reference date for reproducibility.\n"
   ]
  },
  {
   "cell_type": "code",
   "execution_count": 8,
   "id": "e7ddfcf4-1f1c-441a-87bd-5b6b6e389b65",
   "metadata": {},
   "outputs": [
    {
     "name": "stdout",
     "output_type": "stream",
     "text": [
      "R Score Distribution:\n",
      " R_score\n",
      "1    836\n",
      "2    823\n",
      "3    825\n",
      "4    863\n",
      "5    844\n",
      "Name: count, dtype: int64 \n",
      "\n",
      "F Score Distribution:\n",
      " F_score\n",
      "1    839\n",
      "2    838\n",
      "3    838\n",
      "4    838\n",
      "5    838\n",
      "Name: count, dtype: int64 \n",
      "\n",
      "M Score Distribution:\n",
      " M_score\n",
      "1    839\n",
      "2    838\n",
      "3    838\n",
      "4    838\n",
      "5    838\n",
      "Name: count, dtype: int64 \n",
      "\n",
      "Final RFM file saved: customer_rfm.csv\n"
     ]
    }
   ],
   "source": [
    "# Log-transform Monetary to reduce skewness\n",
    "rfm['Monetary_log'] = np.log1p(rfm['Monetary'])\n",
    "\n",
    "# Assign quantile-based scores (1–5)\n",
    "# Lower Recency = better, so we reverse the order for R\n",
    "rfm['R_score'] = pd.qcut(rfm['Recency'], 5, labels=[5, 4, 3, 2, 1]).astype(int)\n",
    "\n",
    "# Higher Frequency and Monetary = better\n",
    "rfm['F_score'] = pd.qcut(rfm['Frequency'].rank(method='first'), 5, labels=[1, 2, 3, 4, 5]).astype(int)\n",
    "rfm['M_score'] = pd.qcut(rfm['Monetary'], 5, labels=[1, 2, 3, 4, 5]).astype(int)\n",
    "\n",
    "# Combine into overall RFM string score (e.g., \"543\")\n",
    "rfm['RFM_score'] = (\n",
    "    rfm['R_score'].astype(str)\n",
    "    + rfm['F_score'].astype(str)\n",
    "    + rfm['M_score'].astype(str)\n",
    ")\n",
    "\n",
    "# Quick distribution check\n",
    "print(\"R Score Distribution:\\n\", rfm['R_score'].value_counts().sort_index(), \"\\n\")\n",
    "print(\"F Score Distribution:\\n\", rfm['F_score'].value_counts().sort_index(), \"\\n\")\n",
    "print(\"M Score Distribution:\\n\", rfm['M_score'].value_counts().sort_index(), \"\\n\")\n",
    "\n",
    "# Save final scored dataset\n",
    "rfm.to_csv(r\"C:\\Users\\AZAN LAPTOP STORE\\Downloads\\Portfolio\\Projects\\Customer Segmentation & Retention Analysis (RFM Model)\\data\\customer_rfm.csv\")\n",
    "print(\"Final RFM file saved: customer_rfm.csv\")\n",
    "\n"
   ]
  },
  {
   "cell_type": "markdown",
   "id": "6efa745a-fdeb-4bbb-a7cd-42f68ef6cd3f",
   "metadata": {},
   "source": [
    "### 📘 Documentation & Notes\n",
    "\n",
    "**Reference Date:**  \n",
    "`{{ reference_date }}` (the date one day after the last invoice)  \n",
    "Keep this constant for reproducibility — future runs should use the same reference date to ensure comparable RFM values.\n",
    "\n",
    "**Tie & Edge Handling:**  \n",
    "- Used `rank(method='first')` for Frequency to avoid quantile-tie errors.  \n",
    "- Quantile bins evenly distribute customers into 5 segments per metric.\n",
    "\n",
    "**Files Created:**  \n",
    "- `customer_rfm.csv` → Final customer-level RFM + scores  \n",
    "\n",
    "---\n",
    "\n",
    "### Summary\n",
    "\n",
    "| Step | Task | Output |\n",
    "|------|------|---------|\n",
    "| 1–3 | Compute R, F, M | `rfm_features` |\n",
    "| 4 | Handle outliers | Clean RFM table |\n",
    "| 5 | Explore distributions | Histograms, summary |\n",
    "| 6 | Score & finalize | `customer_rfm.csv` |\n",
    "\n",
    "**Next Phase →** Segmentation mapping & labels (Notebook 03)"
   ]
  },
  {
   "cell_type": "code",
   "execution_count": null,
   "id": "6f0192d1-f19a-4774-96d1-f53378908334",
   "metadata": {},
   "outputs": [],
   "source": []
  }
 ],
 "metadata": {
  "kernelspec": {
   "display_name": "Python 3",
   "language": "python",
   "name": "python3"
  },
  "language_info": {
   "codemirror_mode": {
    "name": "ipython",
    "version": 3
   },
   "file_extension": ".py",
   "mimetype": "text/x-python",
   "name": "python",
   "nbconvert_exporter": "python",
   "pygments_lexer": "ipython3",
   "version": "3.13.5"
  }
 },
 "nbformat": 4,
 "nbformat_minor": 5
}
